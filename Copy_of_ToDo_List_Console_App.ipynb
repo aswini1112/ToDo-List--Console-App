{
  "cells": [
    {
      "cell_type": "markdown",
      "metadata": {
        "id": "view-in-github",
        "colab_type": "text"
      },
      "source": [
        "<a href=\"https://colab.research.google.com/github/aswini1112/ToDo-List--Console-App/blob/main/Copy_of_ToDo_List_Console_App.ipynb\" target=\"_parent\"><img src=\"https://colab.research.google.com/assets/colab-badge.svg\" alt=\"Open In Colab\"/></a>"
      ]
    },
    {
      "cell_type": "code",
      "source": [
        "\n",
        "Shopping_Cart=[]\n",
        "while True:\n",
        "      print(\"Shopping list\")\n",
        "      print(\"1.add item\")\n",
        "      print(\"2.remove item\")\n",
        "      print(\"3.view item\")\n",
        "      print(\"4.clear item\")\n",
        "      print(\"5.exit\")\n",
        "      choice=input(\"Enter your choice for Shopping_Cart \")\n",
        "      if choice==\"1\":\n",
        "         item=input(\"Enter the item \")\n",
        "         Shopping_Cart.append(item)\n",
        "         print(\"item added succesfully \")\n",
        "         print(f\"{item} is been added \");\n",
        "      elif choice==\"2\":\n",
        "              item=input(\"Enter the item to remove \")\n",
        "              if item in Shopping_Cart:\n",
        "                 Shopping_Cart.remove(item)\n",
        "                 print(f\"{item} has been removed successfully \")\n",
        "              else:\n",
        "                 print(f\"{item} doesn't exist in the Shopping_Cart \")\n",
        "      elif choice==\"3\":\n",
        "              if not Shopping_Cart:\n",
        "                 print(\"empty\")\n",
        "              else:\n",
        "                 for item in Shopping_Cart:\n",
        "                     print(item)\n",
        "      elif choice==\"4\":\n",
        "           Shopping_Cart.clear()\n",
        "           print(\"The items in cart are empty now\")\n",
        "      elif choice==\"5\":\n",
        "           print(\"End my Shopping\")\n",
        "           print(\"Shopping has been ENDED\")\n",
        "           break;\n",
        "\n",
        "      else:\n",
        "         print(\"invalid item \")"
      ],
      "metadata": {
        "colab": {
          "base_uri": "https://localhost:8080/"
        },
        "id": "er70SxF86J5G",
        "outputId": "62999687-c8cf-45e9-ef16-5835af5db3f3"
      },
      "execution_count": null,
      "outputs": [
        {
          "output_type": "stream",
          "name": "stdout",
          "text": [
            "Shopping list\n",
            "1.add item\n",
            "2.remove item\n",
            "3.view item\n",
            "4.clear item\n",
            "5.exit\n",
            "Enter your choice for Shopping_Cart 1\n",
            "Enter the item Oil\n",
            "item added succesfully \n",
            "Oil is been added \n",
            "Shopping list\n",
            "1.add item\n",
            "2.remove item\n",
            "3.view item\n",
            "4.clear item\n",
            "5.exit\n",
            "Enter your choice for Shopping_Cart 1\n",
            "Enter the item Lays\n",
            "item added succesfully \n",
            "Lays is been added \n",
            "Shopping list\n",
            "1.add item\n",
            "2.remove item\n",
            "3.view item\n",
            "4.clear item\n",
            "5.exit\n",
            "Enter your choice for Shopping_Cart 2\n",
            "Enter the item to remove Lays\n",
            "Lays has been removed successfully \n",
            "Shopping list\n",
            "1.add item\n",
            "2.remove item\n",
            "3.view item\n",
            "4.clear item\n",
            "5.exit\n",
            "Enter your choice for Shopping_Cart 3\n",
            "Oil\n",
            "Shopping list\n",
            "1.add item\n",
            "2.remove item\n",
            "3.view item\n",
            "4.clear item\n",
            "5.exit\n",
            "Enter your choice for Shopping_Cart 4\n",
            "The items in cart are empty now\n",
            "Shopping list\n",
            "1.add item\n",
            "2.remove item\n",
            "3.view item\n",
            "4.clear item\n",
            "5.exit\n",
            "Enter your choice for Shopping_Cart 5\n",
            "End my Shopping\n",
            "Shopping has been ENDED\n"
          ]
        }
      ]
    }
  ],
  "metadata": {
    "colab": {
      "provenance": [],
      "authorship_tag": "ABX9TyODwjOIDA3vdotH2J9GeSlJ",
      "include_colab_link": true
    },
    "kernelspec": {
      "display_name": "Python 3",
      "name": "python3"
    },
    "language_info": {
      "name": "python"
    }
  },
  "nbformat": 4,
  "nbformat_minor": 0
}